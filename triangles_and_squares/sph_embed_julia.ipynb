{
 "cells": [
  {
   "cell_type": "code",
   "execution_count": null,
   "metadata": {
    "colab": {
     "base_uri": "https://localhost:8080/"
    },
    "id": "WEtQTfqNSJut",
    "outputId": "dc146802-a7fc-4c2c-8029-3290a19ac10d"
   },
   "outputs": [],
   "source": [
    "import Pkg;\n",
    "Pkg.add(\"LightGraphs\");\n",
    "Pkg.add(\"Optim\");\n",
    "Pkg.add(\"DifferentialEquations\")\n",
    "Pkg.add(\"JSON\")\n",
    "Pkg.add(\"Plots\")\n",
    "Pkg.add(\"Rotations\");\n",
    "Pkg.add(\"LinearAlgebra\");"
   ]
  },
  {
   "cell_type": "code",
   "execution_count": 1,
   "metadata": {
    "colab": {
     "base_uri": "https://localhost:8080/"
    },
    "id": "cBvT-GrVSbyf",
    "outputId": "7e0e8b3c-3fc5-4a3b-ef56-2c60a0454dcb"
   },
   "outputs": [],
   "source": [
    "using LightGraphs;\n",
    "using Optim;\n",
    "using Random;\n",
    "using Rotations;\n",
    "using LinearAlgebra;\n",
    "using Printf;"
   ]
  },
  {
   "cell_type": "code",
   "execution_count": 2,
   "metadata": {
    "colab": {
     "base_uri": "https://localhost:8080/"
    },
    "id": "2FVD08-F3KBF",
    "outputId": "a23ca04d-7085-4aef-b743-ef2d64d0364f"
   },
   "outputs": [
    {
     "data": {
      "text/plain": [
       "from_edge_list (generic function with 1 method)"
      ]
     },
     "execution_count": 2,
     "metadata": {},
     "output_type": "execute_result"
    }
   ],
   "source": [
    "function maxl(L)\n",
    "    m = -1\n",
    "    for i = 1:length(L)\n",
    "        if L[i][1]>m\n",
    "            m = L[i][1]\n",
    "        end\n",
    "        if L[i][2]>m\n",
    "            m = L[i][2]\n",
    "        end\n",
    "    end\n",
    "    return m\n",
    "end\n",
    "\n",
    "function from_edge_list(L)\n",
    "    g = SimpleGraph()\n",
    "    add_vertices!(g,maxl(L)+1)\n",
    "    for i = 1:length(L)\n",
    "        add_edge!(g,L[i][1]+1,L[i][2]+1)\n",
    "\n",
    "    end\n",
    "    return g\n",
    "end\n"
   ]
  },
  {
   "cell_type": "code",
   "execution_count": 18,
   "metadata": {
    "colab": {
     "base_uri": "https://localhost:8080/"
    },
    "id": "4bn_1qJw5C7a",
    "outputId": "4db98f6c-78ff-454f-844d-f60c0b2838d5"
   },
   "outputs": [
    {
     "data": {
      "text/plain": [
       "check_eq (generic function with 2 methods)"
      ]
     },
     "execution_count": 18,
     "metadata": {},
     "output_type": "execute_result"
    }
   ],
   "source": [
    "\n",
    "eps = BigFloat(1e-20)\n",
    "eps1 = BigFloat(1)\n",
    "unit = BigFloat(1)\n",
    "\n",
    "function f(x)::BigFloat\n",
    "    s = BigFloat(0)\n",
    "    global unit\n",
    "    global g\n",
    "    global R\n",
    "    global R2\n",
    "    global node0\n",
    "    global node1\n",
    "    global node2\n",
    "    for e in edges(g)\n",
    "        a = 3*(e.src-1)+1\n",
    "        b = 3*(e.dst-1)+1\n",
    "        s = s + ((x[a]-x[b])^2 + (x[a+1]-x[b+1])^2+ (x[a+2]-x[b+2])^2 - unit)^2\n",
    " \n",
    "\n",
    "    end\n",
    "    for n = 1:nv(g)\n",
    "        a = 3*(n-1)+1\n",
    "        s = s + (x[a]^2+x[a+1]^2+x[a+2]^2-R^2)^2\n",
    " \n",
    "\n",
    "    end\n",
    "#    s = s + eps1*((x[1]-node0[1])^2+(x[2]-node0[2])^2+(x[3]-node0[3])^2)\n",
    "#    s = s + eps1*((x[4]-node1[1])^2+(x[5]-node1[2])^2+(x[6]-node1[3])^2)\n",
    "#    s = s + eps1*((x[7]-node2[1])^2+(x[8]-node2[2])^2+(x[9]-node2[3])^2)\n",
    "    return s\n",
    "end\n",
    "\n",
    "function check_eq(x,eps=BigFloat(1e-20))\n",
    "    global g\n",
    "    r = true\n",
    "    for i = 1:nv(g)\n",
    "        for j = i+1:nv(g)\n",
    "            a = 3*(i-1)+1\n",
    "            b = 3*(j-1)+1\n",
    "            d2 = (x[a]-x[b])^2+(x[a+1]-x[b+1])^2+(x[a+2]-x[b+2])^2\n",
    "            if d2<eps\n",
    "                r = false\n",
    "            end\n",
    "        end\n",
    "    end\n",
    "    return r\n",
    "end\n"
   ]
  },
  {
   "cell_type": "code",
   "execution_count": 19,
   "metadata": {
    "colab": {
     "base_uri": "https://localhost:8080/"
    },
    "id": "TcNv417S0I6v",
    "outputId": "c95881cd-9814-4fd9-8baf-b423130f22d2"
   },
   "outputs": [
    {
     "data": {
      "text/plain": [
       "rot_matr (generic function with 1 method)"
      ]
     },
     "execution_count": 19,
     "metadata": {},
     "output_type": "execute_result"
    }
   ],
   "source": [
    "function triang(x,y)\n",
    "    x = convert(Array{BigFloat,1},x[:])\n",
    "    y = convert(Array{BigFloat,1},y[:])\n",
    "    p = x*(unit/norm(x))\n",
    "    r = RotationVec(p[1]*(2*pi/5), p[2]*(2*pi/5), p[3]*(2*pi/5))\n",
    "    z1 = r*y\n",
    "    r = RotationVec(p[1]*(-2*pi/5), p[2]*(-2*pi/5), p[3]*(-2*pi/5))\n",
    "    z2 = r*y\n",
    "    return z1,z2\n",
    "end\n",
    "\n",
    "\n",
    "\n",
    "function rot_matr(x1,y1,x2,y2)\n",
    "    z11,z12 = triang(x1,y1)\n",
    "    z21,z22 = triang(x2,y2)\n",
    "    A1 = vcat(x1', y1', z11')\n",
    "    A2 = vcat(x1', y1', z12')\n",
    "    B1 = vcat(x2', y2', z21')\n",
    "    B2 = vcat(y2', x2', z22')\n",
    "    return [A1^-1*B1,A1^-1*B2,A2^-1*B1,A2^-1*B2]\n",
    "end\n"
   ]
  },
  {
   "cell_type": "code",
   "execution_count": 45,
   "metadata": {
    "colab": {
     "base_uri": "https://localhost:8080/"
    },
    "id": "-V_GyS5y5KT4",
    "outputId": "c33b2b1a-ffd4-49c0-92a7-d0f367c41281"
   },
   "outputs": [
    {
     "data": {
      "text/plain": [
       "{17, 31} undirected simple Int64 graph"
      ]
     },
     "execution_count": 45,
     "metadata": {},
     "output_type": "execute_result"
    }
   ],
   "source": [
    "# 17-vertex Exoo graph\n",
    "L = [(1,8),(1,12),(1,15),(2,9),(2,10),(2,16),(3,9),(3,15),(3,0),(3,16),(4,11),(4,10),(4,16),(5,11),(5,13),(5,16),(6,12),(6,13),(6,14),(7,12),(7,14),(7,15),(8,13),(8,14),(8,0),(9,11),(9,13),(10,15),(10,0),(11,14),(12,0)]\n",
    "\n",
    "#10-vertex graph\n",
    "#L = [(1, 2), (1, 3), (1, 5), (1, 6), (2, 3), (2, 5), (2, 9), (3, 7), (3, 8), (4, 6), (4, 7), (4, 8), (4, 0), (5, 9), (6, 0), (7, 8), (9, 0)]\n",
    "\n",
    "# triangle\n",
    "#L = [(0,1),(1,2),(0,2)]\n",
    "\n",
    "m = length(L)\n",
    "n = 0\n",
    "for i = 1:m\n",
    "    n1 = maximum(L[i])+1 \n",
    "    if n1>n\n",
    "        n = n1\n",
    "    end\n",
    "end    \n",
    "\n",
    "R = BigFloat(57)/BigFloat(100)\n",
    "R2 = R*R\n",
    "\n",
    "g = from_edge_list(L)\n"
   ]
  },
  {
   "cell_type": "code",
   "execution_count": null,
   "metadata": {
    "colab": {
     "base_uri": "https://localhost:8080/"
    },
    "id": "nMzU1J0k5SHI",
    "outputId": "f84c0c6b-703d-4d3e-a6e4-af46dd51bb3e"
   },
   "outputs": [
    {
     "name": "stdout",
     "output_type": "stream",
     "text": [
      "precision: 0.00064313163709792223 \n",
      "precision: 0.00019623311656700651 \n"
     ]
    }
   ],
   "source": [
    "setprecision(100)\n",
    "\n",
    "m = 100.0\n",
    "mx = []\n",
    "embed =[]\n",
    "\n",
    "\n",
    "tol = BigFloat(10)^(-20)\n",
    "\n",
    "\n",
    "using Random;\n",
    "\n",
    "\n",
    "for i = 1:50\n",
    "    x0 = unit*rand(n*3) .- unit/2;\n",
    "    result = optimize(f, x0, BFGS(), Optim.Options(x_tol=tol, f_tol=tol, g_tol=tol))\n",
    "    m1 = result.minimum\n",
    "    if check_eq(result.minimizer) & (m1<1e-20)\n",
    "        mx = result.minimizer\n",
    "        print(\"(emb) \")\n",
    "        push!(embed, mx)\n",
    "        break\n",
    "    end\n",
    "    @printf \"precision: %.20f \\n\" m1\n",
    "    \n",
    "end\n",
    "\n",
    "embed"
   ]
  },
  {
   "cell_type": "code",
   "execution_count": null,
   "metadata": {
    "id": "HQjIldQ-VbNo"
   },
   "outputs": [],
   "source": []
  },
  {
   "cell_type": "code",
   "execution_count": null,
   "metadata": {},
   "outputs": [],
   "source": []
  }
 ],
 "metadata": {
  "colab": {
   "provenance": []
  },
  "gpuClass": "standard",
  "kernelspec": {
   "display_name": "Julia 1.8.3",
   "language": "julia",
   "name": "julia-1.8"
  },
  "language_info": {
   "file_extension": ".jl",
   "mimetype": "application/julia",
   "name": "julia",
   "version": "1.8.3"
  }
 },
 "nbformat": 4,
 "nbformat_minor": 4
}
